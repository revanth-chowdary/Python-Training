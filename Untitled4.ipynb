{
 "cells": [
  {
   "cell_type": "code",
   "execution_count": 1,
   "metadata": {},
   "outputs": [
    {
     "data": {
      "text/plain": [
       "9"
      ]
     },
     "execution_count": 1,
     "metadata": {},
     "output_type": "execute_result"
    }
   ],
   "source": [
    "def sumofdigits(str):\n",
    "    sum=0\n",
    "    lst1=list(str)\n",
    "    for x in range(len(lst1)):\n",
    "        if ord(lst1[x])>=48 and ord(lst1[x])<=57:\n",
    "            sum=sum+ord(lst1[x])-48;\n",
    "    return sum\n",
    "sumofdigits(\"Goodachari117\")"
   ]
  },
  {
   "cell_type": "code",
   "execution_count": 2,
   "metadata": {},
   "outputs": [
    {
     "name": "stdout",
     "output_type": "stream",
     "text": [
      "16\n",
      "6\n",
      "10\n"
     ]
    }
   ],
   "source": [
    "def sumonlyeven(str):\n",
    "    sum=0\n",
    "    lst1=list(str)\n",
    "    for x in range(len(lst1)):\n",
    "        if ord(lst1[x])>=48 and ord(lst1[x])<=57:\n",
    "            if ord(lst1[x])%2==0:\n",
    "                sum=sum+ord(lst1[x])-48;\n",
    "    return sum\n",
    "print(sumonlyeven(\"Application1889\"))\n",
    "print(sumonlyeven(\"Goodachari116\"))\n",
    "print(sumonlyeven(\"wor7852king\"))\n",
    "\n"
   ]
  },
  {
   "cell_type": "code",
   "execution_count": null,
   "metadata": {},
   "outputs": [],
   "source": []
  }
 ],
 "metadata": {
  "kernelspec": {
   "display_name": "Python 3",
   "language": "python",
   "name": "python3"
  },
  "language_info": {
   "codemirror_mode": {
    "name": "ipython",
    "version": 3
   },
   "file_extension": ".py",
   "mimetype": "text/x-python",
   "name": "python",
   "nbconvert_exporter": "python",
   "pygments_lexer": "ipython3",
   "version": "3.7.3"
  }
 },
 "nbformat": 4,
 "nbformat_minor": 2
}
