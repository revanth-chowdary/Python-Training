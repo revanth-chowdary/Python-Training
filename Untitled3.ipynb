{
 "cells": [
  {
   "cell_type": "code",
   "execution_count": 2,
   "metadata": {},
   "outputs": [
    {
     "name": "stdout",
     "output_type": "stream",
     "text": [
      "3\n"
     ]
    }
   ],
   "source": [
    "def linearexample1(a,keyelement):\n",
    "    flag=0;\n",
    "    for i in range(len(a)):\n",
    "        if a[i]==keyelement:\n",
    "            flag=flag+1;\n",
    "    print(flag);\n",
    "a=[1,3,4,1,4,2,5,1]\n",
    "linearexample1(a,1)"
   ]
  },
  {
   "cell_type": "code",
   "execution_count": 2,
   "metadata": {},
   "outputs": [
    {
     "name": "stdout",
     "output_type": "stream",
     "text": [
      "! !  ! ! ! ! !  "
     ]
    }
   ],
   "source": [
    "def linearexample2(a,keyelement):\n",
    "    for i in range(len(a)):\n",
    "        if a[i]==keyelement:\n",
    "            j=0;\n",
    "            while j!=i+1:\n",
    "                print(\"!\",end=\" \");\n",
    "                j=j+1;\n",
    "            print(end=\" \");\n",
    "a=[1,5,9,6,5,12,4,13,9,3]  \n",
    "linearexample2(a,5)"
   ]
  },
  {
   "cell_type": "code",
   "execution_count": null,
   "metadata": {},
   "outputs": [],
   "source": [
    "def linearfrmattedoutput(a):\n",
    "    for i in range(len(a)):\n",
    "        if i==0 or i==(len(a)-1):\n",
    "            \n",
    "    "
   ]
  },
  {
   "cell_type": "code",
   "execution_count": 11,
   "metadata": {},
   "outputs": [
    {
     "name": "stdout",
     "output_type": "stream",
     "text": [
      "Item Found\n"
     ]
    }
   ],
   "source": [
    "def binarysearch(a,lIndex,rIndex,keyelement):\n",
    "    while lIndex<=rIndex:\n",
    "        mIndex=lIndex+(rIndex-lIndex)//2\n",
    "        if a[mIndex]==keyelement:\n",
    "            return mIndex\n",
    "        if a[mIndex]>keyelement:\n",
    "            rIndex=mIndex-1\n",
    "        else:\n",
    "            lIndex=mIndex+1\n",
    "    return -1         \n",
    "list1=[1,4,5,9,15]\n",
    "res=binarysearch(list1,0,4,15)\n",
    "if res!=-1:\n",
    "    print(\"Item Found\")\n",
    "else:\n",
    "    print(\"Item not found\")"
   ]
  },
  {
   "cell_type": "code",
   "execution_count": 13,
   "metadata": {},
   "outputs": [
    {
     "name": "stdout",
     "output_type": "stream",
     "text": [
      "1 3 6 18 19 23 [1, 4, 5, 9, 15]\n"
     ]
    }
   ],
   "source": [
    "def bubbleSort(a):\n",
    "    for i in range(len(a)-1):\n",
    "        for j in range(len(a)-1):\n",
    "            if a[j] > a[j+1]:\n",
    "                a[j],a[j+1] = a[j+1],a[j]\n",
    "    for i in range(len(a)):\n",
    "        print(a[i],end=\" \")\n",
    "list=[19,1,23,6,18,3]\n",
    "bubbleSort(list)\n",
    "list1.sort()\n",
    "print(list1)\n"
   ]
  },
  {
   "cell_type": "code",
   "execution_count": 14,
   "metadata": {},
   "outputs": [
    {
     "name": "stdout",
     "output_type": "stream",
     "text": [
      "Application\n"
     ]
    }
   ],
   "source": [
    "str=\"Application\"\n",
    "print(str)"
   ]
  },
  {
   "cell_type": "code",
   "execution_count": null,
   "metadata": {},
   "outputs": [],
   "source": []
  }
 ],
 "metadata": {
  "kernelspec": {
   "display_name": "Python 3",
   "language": "python",
   "name": "python3"
  },
  "language_info": {
   "codemirror_mode": {
    "name": "ipython",
    "version": 3
   },
   "file_extension": ".py",
   "mimetype": "text/x-python",
   "name": "python",
   "nbconvert_exporter": "python",
   "pygments_lexer": "ipython3",
   "version": "3.7.3"
  }
 },
 "nbformat": 4,
 "nbformat_minor": 2
}
