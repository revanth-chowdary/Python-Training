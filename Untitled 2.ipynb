{
 "cells": [
  {
   "cell_type": "code",
   "execution_count": 5,
   "metadata": {},
   "outputs": [
    {
     "name": "stdout",
     "output_type": "stream",
     "text": [
      "Enter a number145\n",
      "5\n",
      "4\n",
      "1\n"
     ]
    }
   ],
   "source": [
    "x=int(input(\"Enter a number\"));\n",
    "while(x!=0):\n",
    "    r=x%10\n",
    "    print(r)\n",
    "    x= x // 10"
   ]
  },
  {
   "cell_type": "code",
   "execution_count": 41,
   "metadata": {},
   "outputs": [
    {
     "name": "stdout",
     "output_type": "stream",
     "text": [
      "enter a number1887\n",
      "16\n"
     ]
    }
   ],
   "source": [
    "x=int(input(\"enter a number\"));\n",
    "sum=0\n",
    "while(x!=0):\n",
    " r=x%10;\n",
    " if(r%2==0):\n",
    "    sum= sum + r;\n",
    " x= x // 10;\n",
    "print(sum);"
   ]
  },
  {
   "cell_type": "markdown",
   "metadata": {},
   "source": []
  },
  {
   "cell_type": "code",
   "execution_count": 1,
   "metadata": {},
   "outputs": [
    {
     "name": "stdout",
     "output_type": "stream",
     "text": [
      "enter a number453\n",
      "Three\n",
      "Five\n",
      "Four\n"
     ]
    }
   ],
   "source": [
    "x=int(input(\"enter a number\"))\n",
    "while(x!=0):\n",
    "    \n",
    "    \n",
    "    \n",
    "    r=x%10\n",
    "    #print(r)\n",
    "    if(r==0):\n",
    "        print(\"Zero\")\n",
    "    elif(r==1):\n",
    "        print(\"One\")\n",
    "    elif(r==2):\n",
    "        print(\"Two\")\n",
    "    elif(r==3):\n",
    "        print(\"Three\")\n",
    "    elif(r==4):\n",
    "        print(\"Four\")\n",
    "    elif(r==5):\n",
    "        print(\"Five\")\n",
    "    elif(r==6):\n",
    "        print(\"Six\")\n",
    "    elif(r==7):\n",
    "        print(\"Seven\")\n",
    "    elif(r==8):\n",
    "        print(\"Eight\")\n",
    "    elif(r==9):\n",
    "        print(\"Nine\")\n",
    "    elif(r==10):\n",
    "        print(\"Ten\")\n",
    "    x= x // 10       \n",
    "        \n",
    "    "
   ]
  },
  {
   "cell_type": "code",
   "execution_count": null,
   "metadata": {},
   "outputs": [],
   "source": []
  },
  {
   "cell_type": "code",
   "execution_count": null,
   "metadata": {},
   "outputs": [],
   "source": []
  },
  {
   "cell_type": "code",
   "execution_count": null,
   "metadata": {},
   "outputs": [],
   "source": []
  }
 ],
 "metadata": {
  "kernelspec": {
   "display_name": "Python 3",
   "language": "python",
   "name": "python3"
  },
  "language_info": {
   "codemirror_mode": {
    "name": "ipython",
    "version": 3
   },
   "file_extension": ".py",
   "mimetype": "text/x-python",
   "name": "python",
   "nbconvert_exporter": "python",
   "pygments_lexer": "ipython3",
   "version": "3.7.3"
  }
 },
 "nbformat": 4,
 "nbformat_minor": 2
}
